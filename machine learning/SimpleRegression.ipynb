{
 "cells": [
  {
   "cell_type": "code",
   "execution_count": 42,
   "id": "04999226",
   "metadata": {},
   "outputs": [],
   "source": [
    "import pandas as pd\n",
    "import numpy as np"
   ]
  },
  {
   "cell_type": "code",
   "execution_count": 43,
   "id": "655f2240",
   "metadata": {},
   "outputs": [
    {
     "name": "stdout",
     "output_type": "stream",
     "text": [
      "     Sky Air Temp Humidity    Wind Water Forecast EnjoySport\n",
      "0  Sunny     Warm   Normal  Strong  Warm     Same        yes\n",
      "1  Sunny     Warm     High  Strong  Warm     Same        Yes\n",
      "2  Rainy     Cold     HIgh  Strong  Warm   Change         No\n",
      "3  Sunny     Warm     High  Strong  Cool   Change        Yes n\n"
     ]
    }
   ],
   "source": [
    "data = pd.read_csv(\"data.csv\")\n",
    "print(data,\"n\")"
   ]
  },
  {
   "cell_type": "code",
   "execution_count": 38,
   "id": "b7276de2",
   "metadata": {},
   "outputs": [
    {
     "name": "stdout",
     "output_type": "stream",
     "text": [
      "n The attributes are:  [['Sunny' 'Warm' 'Normal' 'Strong' 'Warm' 'Same']\n",
      " ['Sunny' 'Warm' 'High' 'Strong' 'Warm' 'Same']\n",
      " ['Rainy' 'Cold' 'HIgh' 'Strong' 'Warm' 'Change']\n",
      " ['Sunny' 'Warm' 'High' 'Strong' 'Cool' 'Change']]\n"
     ]
    }
   ],
   "source": [
    "d = np.array(data)[:,:-1]\n",
    "print(\"n The attributes are: \",d)"
   ]
  },
  {
   "cell_type": "code",
   "execution_count": 39,
   "id": "75df94f2",
   "metadata": {},
   "outputs": [
    {
     "name": "stdout",
     "output_type": "stream",
     "text": [
      "n The target is:  ['yes' 'Yes' 'No' 'Yes']\n"
     ]
    }
   ],
   "source": [
    "target = np.array(data)[:,-1]\n",
    "print(\"n The target is: \",target)"
   ]
  },
  {
   "cell_type": "code",
   "execution_count": 48,
   "id": "660c6e0e",
   "metadata": {},
   "outputs": [],
   "source": [
    "def train(c,t):\n",
    "    for i, val in enumerate(t):\n",
    "        if val == \"Yes\":\n",
    "            specific_hypothesis = c[i].copy()\n",
    "            break\n",
    "            \n",
    "    for i, val in enumerate(c):\n",
    "                if t[i] == \"Yes\":\n",
    "                    for x in range(len(specific_hypothesis)):\n",
    "                        if val[x] != specific_hypothesis[x]:\n",
    "                            specific_hypothesis[x] = '?'\n",
    "                        else:\n",
    "                            pass\n",
    "                            \n",
    "    return specific_hypothesis"
   ]
  },
  {
   "cell_type": "code",
   "execution_count": 47,
   "id": "78adf03d",
   "metadata": {
    "scrolled": true
   },
   "outputs": [
    {
     "name": "stdout",
     "output_type": "stream",
     "text": [
      "n The final hypothesis is: ['Sunny' 'Warm' 'High' 'Strong' '?' '?']\n"
     ]
    }
   ],
   "source": [
    "print(\"n The final hypothesis is:\",train(d,target))"
   ]
  }
 ],
 "metadata": {
  "kernelspec": {
   "display_name": "Python 3 (ipykernel)",
   "language": "python",
   "name": "python3"
  },
  "language_info": {
   "codemirror_mode": {
    "name": "ipython",
    "version": 3
   },
   "file_extension": ".py",
   "mimetype": "text/x-python",
   "name": "python",
   "nbconvert_exporter": "python",
   "pygments_lexer": "ipython3",
   "version": "3.11.5"
  }
 },
 "nbformat": 4,
 "nbformat_minor": 5
}
